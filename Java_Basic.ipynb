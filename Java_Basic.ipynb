{
 "cells": [
  {
   "cell_type": "markdown",
   "metadata": {
    "slideshow": {
     "slide_type": "slide"
    }
   },
   "source": [
    "# ```Java語法基礎```\n",
    "\n",
    "### Da-Wei Chiang"
   ]
  },
  {
   "cell_type": "markdown",
   "metadata": {
    "slideshow": {
     "slide_type": "slide"
    }
   },
   "source": [
    "# ```資料型別```\n",
    "\n",
    "- ```基本資料型別　(Primitive Type)```\n",
    "    - ```字元　　(char)```\n",
    "    - ```整數　　(byte, short, int, long)```\n",
    "    - ```浮點數　(float, double)```\n",
    "    - ```布林值　(boolean)```\n",
    "- ```參考資料型別　(Reference Type)```\n",
    "    - ```除了基本資料型別，一律歸為參考資料型別```"
   ]
  },
  {
   "cell_type": "markdown",
   "metadata": {
    "slideshow": {
     "slide_type": "slide"
    }
   },
   "source": [
    "# ```基本資料型別 - 記憶體配置```\n",
    "\n",
    " - ```基本資料型別的記憶體配置於stack中，如:int i = 100;```\n",
    " \n",
    "```\n",
    " ____________________________________________\n",
    "|                    Global                  |\n",
    "|  _________________________________________ |\n",
    "| |                                         ||\n",
    "| |_________________________________________||\n",
    "|  _______     _____________________________ |\n",
    "| |       |   |                             ||\n",
    "| |       |   |                             ||\n",
    "| |       |   |                             ||\n",
    "| |       |   |                             ||\n",
    "| |       |   |                             ||\n",
    "| |_______|   |                             ||\n",
    "| | i=100 |   |                             ||\n",
    "| |_______|   |_____________________________||\n",
    "|   stack                 Heap               |\n",
    "|____________________________________________|\n",
    "```"
   ]
  },
  {
   "cell_type": "markdown",
   "metadata": {
    "slideshow": {
     "slide_type": "subslide"
    }
   },
   "source": [
    "### 字元\n",
    "\n",
    "- 字元 : 只能儲存一個字，資料範圍為0 ~ 65535\n",
    "- 宣告方式\n",
    "    - ```char c1 = 'A';```\n",
    "    - ```char c2 = '字';```\n",
    "    - ```char c3 = 65; 　   // ASCII Code寫法```\n",
    "    - ```char charArray[];  // 宣告字元陣列```\n",
    "- 特殊字元\n",
    "    - ```\\t　　//移動一個tab```\n",
    "    - ```\\n　　//換行符號```"
   ]
  },
  {
   "cell_type": "markdown",
   "metadata": {
    "slideshow": {
     "slide_type": "subslide"
    }
   },
   "source": [
    "### 整數\n",
    "\n",
    "- 整數 : 依資料範圍不同分為byte, short, int ,long\n",
    "    - byte : 資料範圍 -128 ~ 127\n",
    "        - 宣告方式 : \n",
    "            - ```byte b1 = 1;```\n",
    "            - ```byte b2 = 128;　　//Error,超過byte資料範圍```\n",
    "            - ```byte[] b_Array;　　　//宣告byte陣列```\n",
    "    - short : 資料範圍-32768 ~ 32767\n",
    "        - 宣告方式 : \n",
    "            - ```short s1 = 1;```\n",
    "            - ```short shortArray[];　//宣告short陣列```\n",
    "    - int : 資料範圍 -2^31 ~ 2^31-1\n",
    "        - 宣告方式 : \n",
    "            - ```int i1 = 1;```\n",
    "            - ```int i2 = 1.5;　　　//Error,int不可有小數點```\n",
    "            - ```int intArray[];　　　// 宣告int陣列```\n",
    "    - long : 資料範圍 -2^63 ~ 2^63-1\n",
    "        - 宣告方式 : \n",
    "            - ```long l1 = 1;```\n",
    "            - ```long l2 = 1.5;　　 //Error,int不可有小數點```\n",
    "            - ```long l3 = 10L;　　 //l3中的值為10```\n",
    "            - ```long longArray[];　 //宣告long陣列```"
   ]
  },
  {
   "cell_type": "markdown",
   "metadata": {
    "slideshow": {
     "slide_type": "subslide"
    }
   },
   "source": [
    "### 浮點數\n",
    "\n",
    "- 浮點數 : 依資料範圍不同分為float, double\n",
    "    - float宣告方式 : \n",
    "        - ```float f1 = 1;　　　 // f1 = 1.0```\n",
    "        - ```float f2 = 'A';　　 // f2 = 65.0```\n",
    "        - ```float f3 = 2.5　　　 // Error,浮點數預設資料型態為double```\n",
    "        - ```float f4 = 2.5f　　　 // f4 = 2.5```\n",
    "        - ```float floatArray[];　　// 宣告float陣列```\n",
    "    - double宣告方式 : \n",
    "        - ```double d1 = 1;　　　　 // d1 = 1.0```\n",
    "        - ```double d2 = 2.5　　　　 // d2 = 2.5```\n",
    "        - ```double d3 = 2.5f　　　　// d3 = 2.5```\n",
    "        - ```double doubleArray[];　 // 宣告double陣列```"
   ]
  },
  {
   "cell_type": "markdown",
   "metadata": {
    "slideshow": {
     "slide_type": "subslide"
    }
   },
   "source": [
    "### 布林值\n",
    "\n",
    "- 布林值 : ```不是true就是false.```\n",
    "    - 宣告方式 :　\n",
    "        - ```boolean b1 = true;```\n",
    "        - ```boolean b2 = 1;　//Error,Java不像R或Python可將1轉為true.```\n"
   ]
  },
  {
   "cell_type": "markdown",
   "metadata": {
    "slideshow": {
     "slide_type": "slide"
    }
   },
   "source": [
    "# 資料型別的轉換\n",
    "\n",
    "- 隱含式轉換　(Implicit Casting)\n",
    "    - 型別小轉型別大\n",
    "- 強行式轉換　(Explicit Casting)\n",
    "    - 型別大轉型別小\n",
    "- 範例\n",
    "    - 隱含式轉換\n",
    "        ```\n",
    "        int i = 0\n",
    "        double j;\n",
    "        j = i\n",
    "        ```\n",
    "    - 強行式轉換\n",
    "        ```\n",
    "        double j = 0;\n",
    "        int i;\n",
    "        i = j;　　　　//不合法，double型別大於int型別\n",
    "        i = (int)j　　//合法，將double強制轉型為int\n",
    "        ```"
   ]
  },
  {
   "cell_type": "markdown",
   "metadata": {
    "slideshow": {
     "slide_type": "slide"
    }
   },
   "source": [
    "# ```參考資料型別 - 記憶體配置```\n",
    "\n",
    " - 參考資料型別的記憶體配置是將記憶體位置放於stack中，由stack中的記憶體位置至Heap中找取\n",
    "     - ex : String Hello = new String(\"Hi\")\n",
    " - 參考資料型別可以將其解讀為「參考stack中的記憶體位置，進而操作Heap中該記憶體位置值的資料型態」\n",
    " \n",
    "```\n",
    " ____________________________________________\n",
    "|                    Global                  |\n",
    "|  _________________________________________ |\n",
    "| |                                         ||\n",
    "| |_________________________________________||\n",
    "|  _______     _____________________________ |\n",
    "| |       |   |                             ||\n",
    "| |       |   |                             ||\n",
    "| |       |   |       ________              ||\n",
    "| |       |   |      | 0X00AB |             ||\n",
    "| |_______|   |      |   Hi   |             ||\n",
    "| |Hello= |   |      |________|             ||\n",
    "| |0X00AB |   |                             ||\n",
    "| |_______|   |_____________________________||\n",
    "|   stack                 Heap               |\n",
    "|____________________________________________|\n",
    "```"
   ]
  },
  {
   "cell_type": "markdown",
   "metadata": {
    "slideshow": {
     "slide_type": "subslide"
    }
   },
   "source": [
    "### 陣列與字串\n",
    "\n",
    "- 陣列 : 儲存一連串擁有相同資料類型的資料\n",
    "    - 基本型態陣列宣告 : ```int i[];```\n",
    "        - ```int i[]只是於stack中給一個記憶體空間，並未有物件實體```\n",
    "    - 基本型態產生陣列實體 : ```int i[] = new int [5]```\n",
    "        - ```關鍵字new產生一個陣列實體於Heap中，其長度為5的int```\n",
    "- 字串 : 字串其實就是字元陣列，字串陣列可一次儲存多個字串\n",
    "    - 類別型態的陣列宣告 : ```String s[];```\n",
    "        - ```String s[]與基本資料型態相同，只是給予記憶體空間並未產生陣列實體```\n",
    "    - 類別型態產生陣列實體 : ```String s[] = new String[]{1,2,3,4,5}```\n",
    "        - ```被實體的陣列物件會根據{ }的元素個數來配置記憶體空間```"
   ]
  },
  {
   "cell_type": "markdown",
   "metadata": {
    "slideshow": {
     "slide_type": "subslide"
    }
   },
   "source": [
    "### ```equal函數、length函數```\n",
    "\n",
    "- 字串的比較需藉由equal函數，若用==是比較```stack```中的記憶體位置而非比較```Heap```中的值\n",
    "    ```\n",
    "    String s1 = \"JAVA\"\n",
    "    String s2 = \"JAVA\"\n",
    "    boolean compare = s1.equal(s2);　　//compare終將會儲存比較後的結果True\n",
    "    ```\n",
    "- 長度 : 不管是陣列的長度或字串的長度皆可使用```length```函數來取得\n",
    "    ```\n",
    "    int i[] = new int[10]\n",
    "    int len = i.length;　　//len終將儲存i的陣列長度10\n",
    "    String s = \"Hello\";\n",
    "    int len = s.length;　　//len終將儲存s的字串長度5\n",
    "    ```"
   ]
  },
  {
   "cell_type": "markdown",
   "metadata": {
    "slideshow": {
     "slide_type": "slide"
    }
   },
   "source": [
    "# 運算子\n",
    "\n",
    "- 賦值運算子\n",
    "- 算術運算子\n",
    "- 關係運算子\n",
    "- 邏輯運算子\n",
    "- 指定運算子\n",
    "- 三元運算子"
   ]
  },
  {
   "cell_type": "markdown",
   "metadata": {
    "slideshow": {
     "slide_type": "subslide"
    }
   },
   "source": [
    "### 賦值運算子\n",
    "\n",
    "- 賦值運算子= : 將變數值賦予變數儲存\n",
    "     - ```int a = 10　　　//將10賦予a儲存```\n",
    "     - ```String s = \"Hello\"  //將字串的記憶體位置賦予s儲存在stack中```"
   ]
  },
  {
   "cell_type": "markdown",
   "metadata": {
    "slideshow": {
     "slide_type": "subslide"
    }
   },
   "source": [
    "### 算數運算子\n",
    "\n",
    "- 常用的算數運算子\n",
    "    - ```+ : 8 + 7 = 15 ```\n",
    "    - ```- : 8 - 7 = 1 ```\n",
    "    - ```* : 8 * 7 = 56 ```\n",
    "    - ```/ : 8 / 2 = 4 ```\n",
    "    - ```% : 8 % 7 = 1    //取餘數 ```\n",
    "    - ```++ : \n",
    "        int A = 0;\n",
    "         A = ++A;    //A先加1之後賦值給A，所以A為1\n",
    "        int A = 0;\n",
    "         A = A++;    //A先賦值給A之後在+1，所以A為0\n",
    "      ```\n",
    "    - ```-- :\n",
    "        int A = 0;\n",
    "         A = --A;    //A先減1之後賦值給A，所以A為-1\n",
    "        int A = 0;\n",
    "         A = A--;    //A先賦值給A之後在-1，所以A為0\n",
    "      ```\n",
    "      \n",
    "      \n",
    "- 算數運算子+，除了可以做運算之外還可以將字串做連結\n",
    "    ```\n",
    "    String s1 = \"JAVA\", s2 = \"SE\";\n",
    "    int i = 2;\n",
    "    System.out.print(s1+s2);     //印出JAVASE\n",
    "    System.out.print(s1+s2+i);    //印出JAVASE2\n",
    "    ```"
   ]
  },
  {
   "cell_type": "markdown",
   "metadata": {
    "slideshow": {
     "slide_type": "subslide"
    }
   },
   "source": [
    "### 關係運算子\n",
    "\n",
    "- ```常用的關係運算子 : == 、 != 、 > 、 < 、 >= 、 <=```\n",
    "     ```\n",
    "         int a = 1, b = 2;\n",
    "         a == b        //回傳false\n",
    "         a != b        //回傳true\n",
    "         a > b        //回傳false\n",
    "         a < b        //回傳true\n",
    "         a >= b        //回傳false\n",
    "         a <= b        //回傳true\n",
    "     ```"
   ]
  },
  {
   "cell_type": "markdown",
   "metadata": {
    "slideshow": {
     "slide_type": "subslide"
    }
   },
   "source": [
    "### 邏輯運算子\n",
    "\n",
    "- 常用的邏輯運算子 :``` || 、 && 、 !```\n",
    "    - ```|| : 只要有一個true結果則為true```\n",
    "    - ```&& : 要全部為true結果才為true```\n",
    "    - ```! : 結果的相反```\n",
    "    ```\n",
    "        int a = 1, b = 2;\n",
    "        (a < b) || (a < 0)     // true || false 結果為 true\n",
    "        (a < b) || (a < 0)     // true || false 結果為 false\n",
    "        !(a < b)               // !true 結果為false\n",
    "    ```"
   ]
  },
  {
   "cell_type": "markdown",
   "metadata": {
    "slideshow": {
     "slide_type": "subslide"
    }
   },
   "source": [
    "### 指定運算子\n",
    "\n",
    "- 指定運算子 : ```= 、 += 、 -= 、 *= 、 /= 、 %=  ...等等```\n",
    "    ```\n",
    "        int a = 0;\n",
    "        a+=1      //結果與a = a + 1相同\n",
    "        a-=1      //結果與a = a - 1相同\n",
    "        其餘的指定運算子依此類推\n",
    "    ```"
   ]
  },
  {
   "cell_type": "markdown",
   "metadata": {
    "slideshow": {
     "slide_type": "slide"
    }
   },
   "source": [
    "# 類別與物件\n",
    "\n",
    "- 類別 : 為Java程式的基礎，可以想像成是一個模具\n",
    "- 物件 : 由類別宣告而產生的變數\n",
    "\n",
    "```\n",
    "    class MyClass {\n",
    "        \n",
    "    }                //撰寫一個類別MyClass\n",
    "    \n",
    "    MyClass obj = new MyClass();    //由類別MyClass產生一個物件obj\n",
    "```"
   ]
  },
  {
   "cell_type": "markdown",
   "metadata": {
    "slideshow": {
     "slide_type": "slide"
    }
   },
   "source": [
    "# ```Java```的程式結構\n",
    "\n",
    "- Java的程式結構是由以下三種組合而成\n",
    "    - 類別 class\n",
    "    - 屬性 Attribute\n",
    "        - 類別變數\n",
    "        - 物件變數\n",
    "    - 方法 Method\n",
    "        - 類別方法\n",
    "        - 物件方法\n",
    "    - 建構子 Contractor"
   ]
  },
  {
   "cell_type": "markdown",
   "metadata": {
    "slideshow": {
     "slide_type": "subslide"
    }
   },
   "source": [
    "### 結構 - 類別```Class```\n",
    "\n",
    "- 類別 : ```類別在java中是一切的基礎，包圍著屬性(Attribute)、方法(Method)```\n",
    "```\n",
    "    class MyClass {\n",
    "        類別屬性、物件屬性\n",
    "        建構子()、類別方法()、物件方法()\n",
    "    }\n",
    "```"
   ]
  },
  {
   "cell_type": "markdown",
   "metadata": {
    "slideshow": {
     "slide_type": "subslide"
    }
   },
   "source": [
    "### 結構 - 屬性```Attribute```\n",
    "\n",
    "- 屬性 : 屬性即為變數宣告，分為以下兩種\n",
    "    - 類別屬性 : \n",
    "        ```\n",
    "        static int i = 10;\n",
    "        ```\n",
    "    - 物件屬性 :\n",
    "        ```\n",
    "        int i =10\n",
    "        ```\n",
    "\n",
    "\n",
    "PS. 變數宣告中加入static修飾元的即為類別變數，可由類別class直接存取。物件變數只能由類別宣告的物件實體存取"
   ]
  },
  {
   "cell_type": "markdown",
   "metadata": {
    "slideshow": {
     "slide_type": "subslide"
    }
   },
   "source": [
    "### 結構 - 方法```Method```\n",
    "\n",
    "- 方法 : 方法即為函數撰寫，分為以下兩種\n",
    "    - 類別方法 :\n",
    "        ```\n",
    "        static void MyMethod() {\n",
    "            \n",
    "        }            //撰寫一個類別函數，無回傳值void; 只有類別可以存取\n",
    "        ```\n",
    "    - 物件方法 :\n",
    "        ```\n",
    "        void MyMethod() {\n",
    "        \n",
    "        }           //撰寫一個物件函數，無回傳值void; 只有物件可以存取\n",
    "        ```"
   ]
  },
  {
   "cell_type": "markdown",
   "metadata": {
    "slideshow": {
     "slide_type": "subslide"
    }
   },
   "source": [
    "### 結構 - 建構子```Contractor```\n",
    "\n",
    "- 建構子 :\n",
    "    - 建構子是一種方法，方法的名稱與類別名稱相同.\n",
    "    - 當類別產生(new)物件實體時一定會執行該類別的函數.\n",
    "    - 可撰寫也可以不撰寫\n",
    "    ```\n",
    "    class MyClass {\n",
    "    \n",
    "        MyClass() {\n",
    "            \n",
    "        }       //撰寫建構子，可寫也可不寫;只是當產生物件實體時必定會執行建構子\n",
    "    }\n",
    "    ```"
   ]
  },
  {
   "cell_type": "markdown",
   "metadata": {
    "slideshow": {
     "slide_type": "slide"
    }
   },
   "source": [
    "\n",
    "# ```Java```的存取修飾元\n",
    "- ```private : 同一個class內才可存取```\n",
    "- ```default : 放於同一個資料夾中的class才可存取```\n",
    "- ```protected : 放於同一個資料夾中的class才可存取，不同資料夾中的class需有繼承關係才能存取```\n",
    "- ```public : 皆可存取```"
   ]
  },
  {
   "cell_type": "markdown",
   "metadata": {
    "slideshow": {
     "slide_type": "slide"
    }
   },
   "source": [
    "# 變數命名規則\n",
    "\n",
    "- 類別名稱命名 : 第一個字母設定為大寫.\n",
    "    - ```class Hello{  }```\n",
    "- 變數名稱命名 : 駝峰命名法\n",
    "    - ```int i = 0;```\n",
    "    - ```int itemPrice = 0;```\n",
    "- 函數的命名 : 駝峰命名法\n",
    "    - ```public void getItem( ) { }```"
   ]
  },
  {
   "cell_type": "markdown",
   "metadata": {
    "slideshow": {
     "slide_type": "slide"
    }
   },
   "source": [
    "# ```Java```程式的進入點\n",
    "```\n",
    "class MyClass {\n",
    "    public static void main(String args[]) {\n",
    "    \n",
    "    }               //主程式，為java程式的進入點\n",
    "}\n",
    "```"
   ]
  },
  {
   "cell_type": "markdown",
   "metadata": {
    "slideshow": {
     "slide_type": "slide"
    }
   },
   "source": [
    "# ```腦洞時間 - Java範例```\n",
    "\n",
    "- 看得懂以下程式碼即完成```Java```的基礎學習\n",
    "\n",
    "\n",
    "\n",
    "```\n",
    "public class Practice {\n",
    "    public static void main(String args[]) {\n",
    "        MyClass myClass = new MyClass();\n",
    "        String myName = MyClass.name;\n",
    "        String mySubName = myClass.subName;\n",
    "        MyClass.skill();\n",
    "        myClass.subSkill();\n",
    "    }\n",
    "}\n",
    "public class MyClass {\n",
    "    MyClass(){\n",
    "        System.out.println(\"MyClass Contractor\");\n",
    "    }\n",
    "    public static String name = \"Da-Wei Chiang\";\n",
    "    public String subName = \"mirdex\";\n",
    "    \n",
    "    public static void skill() {\n",
    "        System.out.println(\"Study & Researching.\");\n",
    "    }\n",
    "    public void subSkill() {\n",
    "        System.out.println(\"Playing table tennis.\");\n",
    "    }\n",
    "}\n",
    "```"
   ]
  }
 ],
 "metadata": {
  "celltoolbar": "Slideshow",
  "kernelspec": {
   "display_name": "Python 3",
   "language": "python",
   "name": "python3"
  },
  "language_info": {
   "codemirror_mode": {
    "name": "ipython",
    "version": 3
   },
   "file_extension": ".py",
   "mimetype": "text/x-python",
   "name": "python",
   "nbconvert_exporter": "python",
   "pygments_lexer": "ipython3",
   "version": "3.6.1"
  }
 },
 "nbformat": 4,
 "nbformat_minor": 2
}
