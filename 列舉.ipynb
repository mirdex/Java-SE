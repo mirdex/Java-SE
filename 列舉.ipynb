{
 "cells": [
  {
   "cell_type": "markdown",
   "metadata": {
    "slideshow": {
     "slide_type": "slide"
    }
   },
   "source": [
    "# ```列舉(Enum)```\n",
    "\n",
    "## Da-Wei Chiang"
   ]
  },
  {
   "cell_type": "markdown",
   "metadata": {
    "slideshow": {
     "slide_type": "slide"
    }
   },
   "source": [
    "## 列舉\n",
    "\n",
    "- 列舉也是一種類別，可單獨撰寫\n",
    "- 通常用來表示一組相同類型的資料，這組資料中的每個元素都是唯一的\n"
   ]
  },
  {
   "cell_type": "markdown",
   "metadata": {
    "slideshow": {
     "slide_type": "slide"
    }
   },
   "source": [
    "## 撰寫列舉(範例一)\n",
    "\n",
    "- 列舉的內部類別撰寫與類別相似\n",
    "\n",
    "```\n",
    "public class Enumerated {\n",
    "    public enum Week {\n",
    "        Sunday,\n",
    "        Monday,\n",
    "        Tuesday,\n",
    "        Wednesday,\n",
    "        Thursday,\n",
    "        Friday,\n",
    "        Saturday\n",
    "    }\n",
    "    public static void main(String[] args) {\n",
    "        ....\n",
    "    }\n",
    "}\n",
    "```"
   ]
  },
  {
   "cell_type": "markdown",
   "metadata": {
    "slideshow": {
     "slide_type": "subslide"
    }
   },
   "source": [
    "## 存取列舉(接續範例一)\n",
    "\n",
    "- 直接存取(.)\n",
    "\n",
    "```\n",
    "public static void main(String[] args) {\n",
    "    System.out.println(Week.Sunday); //印出Sunday\n",
    "}\n",
    "```\n",
    "- 透過參照(變數)\n",
    "```\n",
    "public static void main(String[] args) {\n",
    "    Week week = Week.Sunday;\n",
    "    System.out.println(week);\n",
    "}\n",
    "```\n",
    "- 透過values()\n",
    "```\n",
    "public static void main(String[] args) {\n",
    "    Week[] week = Week.values(); //一次將全部的值存至week陣列\n",
    "    for(Week w : week) {\n",
    "        System.out.println(w);\n",
    "    }\n",
    "}\n",
    "```\n",
    "- 透過valueOf()\n",
    "```\n",
    "public static void main(String[] args) {\n",
    "    System.out.println(Week.valueOf(\"Sunday\"));\n",
    "}\n",
    "```"
   ]
  },
  {
   "cell_type": "markdown",
   "metadata": {
    "slideshow": {
     "slide_type": "subslide"
    }
   },
   "source": [
    "## ```列舉範例一(toString)```\n",
    "- toString轉換為其他字串程式碼\n",
    "\n",
    "```\n",
    "class Enumerated {\n",
    "    public static void main(String[] args) {\n",
    "        System.out.println(Week.Sunday);  //輸出Great\n",
    "        System.out.println(Week.Wednesday);\n",
    "    }\n",
    "}\n",
    "\n",
    "enum Week{\n",
    "    Sunday {\n",
    "        public String toString() {\n",
    "            return \"Great\";\n",
    "        }\n",
    "    },\n",
    "    Monday,\n",
    "    Tuesday,\n",
    "    Wednesday,\n",
    "    Thursday,\n",
    "    Friday,\n",
    "    Saturday\n",
    "}\n",
    "```\n",
    "\n",
    "- 程式碼結果\n",
    "```\n",
    "Great\n",
    "Wednesday\n",
    "```"
   ]
  }
 ],
 "metadata": {
  "celltoolbar": "Slideshow",
  "kernelspec": {
   "display_name": "Python 3",
   "language": "python",
   "name": "python3"
  },
  "language_info": {
   "codemirror_mode": {
    "name": "ipython",
    "version": 3
   },
   "file_extension": ".py",
   "mimetype": "text/x-python",
   "name": "python",
   "nbconvert_exporter": "python",
   "pygments_lexer": "ipython3",
   "version": "3.6.1"
  }
 },
 "nbformat": 4,
 "nbformat_minor": 2
}
