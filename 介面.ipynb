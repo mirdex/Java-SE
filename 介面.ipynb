{
 "cells": [
  {
   "cell_type": "markdown",
   "metadata": {
    "slideshow": {
     "slide_type": "slide"
    }
   },
   "source": [
    "# ```介面(Interface)與抽象類別(abstract class)```\n",
    "\n",
    "## Da-Wei Chiang"
   ]
  },
  {
   "cell_type": "markdown",
   "metadata": {
    "slideshow": {
     "slide_type": "slide"
    }
   },
   "source": [
    "## ```介面(interface)```\n",
    "\n",
    "- 介面的概念\n",
    "    - 讓程式撰寫有一定的規範可循，介面類別設定完成後就不允許更改。\n",
    "- 介面的宣告方式\n",
    "    - ```[存取修飾子] interface 介面名稱 + [extends...]```"
   ]
  },
  {
   "cell_type": "markdown",
   "metadata": {
    "slideshow": {
     "slide_type": "slide"
    }
   },
   "source": [
    "## 介面的注意事項\n",
    "\n",
    "- 存取修飾子\n",
    "    - default、public、private、protected\n",
    "- 介面的屬性必須設定初始值\n",
    "    - ```int userCount = 1000```\n",
    "- 介面的方法不可撰寫實作區塊\n",
    "    - ```void similarity();```\n",
    "- 介面若沒加以實作，不能new出物件實體\n"
   ]
  },
  {
   "cell_type": "markdown",
   "metadata": {
    "slideshow": {
     "slide_type": "slide"
    }
   },
   "source": [
    "## 介面範例一 (參考至猛虎出閘)\n",
    "\n",
    "- 定義介面\n",
    "```\n",
    "public interface Pet {\n",
    "    String arr = \"cute\"; //必須給定初始值\n",
    "    void skill();\n",
    "    void move();\n",
    "}\n",
    "```\n",
    "- 實作介面\n",
    "```\n",
    "public class Dog implements Pet {\n",
    "    public void skill() {\n",
    "        System.out.println(\"玩\");\n",
    "    }\n",
    "    public void move() {\n",
    "        System.out.println(\"跑跑跳跳\");\n",
    "    }\n",
    "    public static void main(String[] args) {\n",
    "        Dog dog = new Dog();\n",
    "        dog.skill();\n",
    "        dog.move();\n",
    "    }\n",
    "}\n",
    "```\n",
    "- 程式碼解析\n",
    "    - implements中的skill覆寫了interface中的skill\n",
    "    - implements中的move覆寫了interface中的move"
   ]
  },
  {
   "cell_type": "markdown",
   "metadata": {
    "slideshow": {
     "slide_type": "subslide"
    }
   },
   "source": [
    "## 介面範例二\n",
    "\n",
    "- java本身並無多重繼承的概念，但可藉由介面達到多重繼承的效果。\n",
    "- 多重繼承宣告方式\n",
    "    - ```介面 extends 介面1, 介面2...```\n",
    "- 多重繼承範例敘述\n",
    "    - 定義兩個介面(生物、非生物)，並由介面寵物繼承生物、非生物，再由狗進行實作。\n",
    "\n",
    "```\n",
    "//介面一\n",
    "public interface Creature {\n",
    "    void skill();\n",
    "    void move();\n",
    "}\n",
    "\n",
    "//介面二\n",
    "public interface NonCreature {\n",
    "    String nonName();\n",
    "}\n",
    "\n",
    "//介面三\n",
    "public interface Pet extends Creature, NonCreature{\n",
    "}\n",
    "\n",
    "//實作介面的類別\n",
    "public class Dog implements Pet {\n",
    "    public void skill() {\n",
    "        System.out.print(\"玩\");\n",
    "    }\n",
    "    public void move() {\n",
    "        System.out.println(\"跑跑跳跳\");\n",
    "    }\n",
    "    public void nonName() {\n",
    "        System.out.print(\"球\");\n",
    "    }\n",
    "    public static void main(String[] args) {\n",
    "        Dog dog = new Dog();\n",
    "        dog.skill();\n",
    "        dog.nonName();\n",
    "        dog.move();\n",
    "    }\n",
    "}\n",
    "```"
   ]
  },
  {
   "cell_type": "markdown",
   "metadata": {
    "slideshow": {
     "slide_type": "slide"
    }
   },
   "source": [
    "## ```抽象類別(abstract class)```\n",
    "\n",
    "- 抽象類別的概念\n",
    "    - 為了讓方法的使用更多樣性\n",
    "- 抽象類別宣告方式\n",
    "    - ```[存取修飾子] abstract class 類別名稱 [extends ...] [implements ...]```\n"
   ]
  },
  {
   "cell_type": "markdown",
   "metadata": {
    "slideshow": {
     "slide_type": "slide"
    }
   },
   "source": [
    "## 抽象類別的注意事項\n",
    "\n",
    "- 若父類別為抽象類別，其所產生的抽象方法都必須由子類別加以實作\n",
    "- 若子類別沒有實作父類別全部的抽象類別，則子類別也必須宣告為抽象類別\n",
    "- 子類別在使用父類別的抽象方法時，必須覆寫才能使用\n",
    "- 抽象類別不可利用new關鍵字建立物件實體\n",
    "- 抽象方法不需撰寫時作區塊\n",
    "- 抽象方存取權限不可為private\n",
    "- 並無抽象屬性、抽象建構子這些東西"
   ]
  },
  {
   "cell_type": "markdown",
   "metadata": {
    "slideshow": {
     "slide_type": "slide"
    }
   },
   "source": [
    "## 抽象類別範例一 (參考至猛虎出閘)\n",
    "\n",
    "- 範例敘述\n",
    "    - 撰寫一個Car抽象類別與一個Tank類別，Tank類別透過繼承Car抽象類別並覆寫Car所提供的抽象方法\n",
    "- 範例程式碼\n",
    "\n",
    "```\n",
    "abstract class Car {\n",
    "    public void power() {\n",
    "    }\n",
    "    abstract void move();\n",
    "}\n",
    "\n",
    "public class Tank extends Car{\n",
    "    public void move () {\n",
    "        System.out.println(\"坦克是用履帶走的...\");\n",
    "    }\n",
    "    public static void main(String[] args){\n",
    "        Tank t = new Tank();\n",
    "        t.move\n",
    "    }\n",
    "}\n",
    "```\n",
    "- 程式碼解析\n",
    "    - 類別Tank實作了Car抽象類別的move方法\n",
    "    - 類別Tank實作抽象類別Car中move方法的修飾子可為public、protected、void"
   ]
  }
 ],
 "metadata": {
  "celltoolbar": "Slideshow",
  "kernelspec": {
   "display_name": "Python 3",
   "language": "python",
   "name": "python3"
  },
  "language_info": {
   "codemirror_mode": {
    "name": "ipython",
    "version": 3
   },
   "file_extension": ".py",
   "mimetype": "text/x-python",
   "name": "python",
   "nbconvert_exporter": "python",
   "pygments_lexer": "ipython3",
   "version": "3.6.1"
  }
 },
 "nbformat": 4,
 "nbformat_minor": 2
}
