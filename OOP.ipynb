{
 "cells": [
  {
   "cell_type": "markdown",
   "metadata": {
    "slideshow": {
     "slide_type": "slide"
    }
   },
   "source": [
    "# Java 的物件導向\n",
    "\n",
    "## Da-Wei Chiang"
   ]
  },
  {
   "cell_type": "markdown",
   "metadata": {
    "slideshow": {
     "slide_type": "slide"
    }
   },
   "source": [
    "## 物件導向的概念\n",
    "\n",
    "- 兩個精神 : \n",
    "    - 抽象化```(Abstraction)```\n",
    "    - 繼承 ```(Inheritance)```\n",
    "- 三個特徵 :\n",
    "    - 繼承 ```(Inheritance)```\n",
    "    - 封裝 ```(Encapsulation)```\n",
    "    - 多型 ```(Polymorphism)```"
   ]
  },
  {
   "cell_type": "markdown",
   "metadata": {
    "slideshow": {
     "slide_type": "slide"
    }
   },
   "source": [
    "## 再談物件導向之前....."
   ]
  },
  {
   "cell_type": "markdown",
   "metadata": {
    "slideshow": {
     "slide_type": "slide"
    }
   },
   "source": [
    "## ```建構子(Constructor)```\n",
    "\n",
    "- 建立物件實體(new)時必定會執行的方法\n",
    "- 沒有回傳值(建構子前無任何修飾字)\n",
    "- 建構子名稱與類別名稱相同\n"
   ]
  },
  {
   "cell_type": "markdown",
   "metadata": {
    "slideshow": {
     "slide_type": "subslide"
    }
   },
   "source": [
    "## 建構子範例\n",
    "\n",
    "- 建構子與一般方法的差異\n",
    "```\n",
    "public class Constructor {\n",
    "    public Constructor() { }  //建構子區塊\n",
    "    public void Constructor() { }    //無回傳值的方法\n",
    "    public int Constructor() { }    //有回傳值的方法\n",
    "}\n",
    "```\n",
    "- 建構子的程式碼執行範例\n",
    "```\n",
    "public class Constructor {\n",
    "    public Constructor(){\n",
    "        System.out.println(\"This is Constructor\");\n",
    "    }\n",
    "    public static void main(String[] args) {\n",
    "        new Constructor(); //產生一個物件實體，即呼叫建構子\n",
    "        Constructor con = new Constructor(); //產生物件實體，並由con物件負責呼叫\n",
    "    }\n",
    "}\n",
    "```\n",
    "- 建構子的程式碼執行結果\n",
    "```\n",
    "This is Constructor\n",
    "This is Constructor\n",
    "```"
   ]
  },
  {
   "cell_type": "markdown",
   "metadata": {
    "slideshow": {
     "slide_type": "subslide"
    }
   },
   "source": [
    "## 帶有參數的建構子範例\n",
    "\n",
    "- 帶參數的建構子程式碼\n",
    "```\n",
    "public class Constractor {\n",
    "    public Constrator(String s){\n",
    "        System.out.println(\"Hello \" + s);\n",
    "    }\n",
    "    public static void main(String[] args) {\n",
    "        Constrator con = new Constrator(\"World\");\n",
    "    }\n",
    "}\n",
    "```\n",
    "- 該程式碼執行結果\n",
    "```\n",
    "    Hello World\n",
    "```"
   ]
  },
  {
   "cell_type": "markdown",
   "metadata": {
    "slideshow": {
     "slide_type": "subslide"
    }
   },
   "source": [
    "## 預設建構子\n",
    "\n",
    "- 若沒有撰寫建構子，```new```一個物件時會自動執行\n",
    "- 每一個```class```會有一個預設建構子\n",
    "- 若沒有撰寫建構子，則編譯時期自動加入的則為預設建構子\n",
    "- 預設建構子無參數列"
   ]
  },
  {
   "cell_type": "markdown",
   "metadata": {
    "slideshow": {
     "slide_type": "slide"
    }
   },
   "source": [
    "## ```static成員與non-static成員```\n",
    "\n",
    "- ```static```成員\n",
    "    - 有```static```修飾字即為類別成員(類別變數、類別方法)\n",
    "    - ```static```成員只能存取```static```成員\n",
    "- ```non-static```成員\n",
    "    - 沒有撰寫```static```修飾字的即為```non-static```成員，又稱物件成員(物件變數、物件方法)\n",
    "    - ```non-static```成員可直接存取```static```成員及```non-static```成員"
   ]
  },
  {
   "cell_type": "markdown",
   "metadata": {
    "slideshow": {
     "slide_type": "subslide"
    }
   },
   "source": [
    "## ```static成員與non-static成員範例一```\n",
    "\n",
    "```\n",
    "public class Test {\n",
    "    static int a = 10;\n",
    "    int b = 20;\n",
    "    static void aa(String s){\n",
    "        System.out.println(s + \"call static method\");\n",
    "    }\n",
    "    void bb(){\n",
    "        System.out.println(\"non-static method\");\n",
    "    }\n",
    "}\n",
    "\n",
    "public class Practice {\n",
    "    public static void main(String[] args) {\n",
    "        System.out.println(\"Test.a = \" + Test.a);\n",
    "        Test.aa(\"class \");\n",
    "        System.out.println(\"Test.b = \" + Test.b); //Error, 類別不能存取non-static成員\n",
    "        Test.bb();  //Error, 類別不能存取non-static成員\n",
    "        System.out.println(\"---------------------\");\n",
    "        Test tt = new Test();\n",
    "        System.out.println(\"tt.a = \" + tt.a);\n",
    "        tt.aa(\"object \");\n",
    "        System.out.println(\"tt.b = \" + tt.b);\n",
    "        tt.bb();\n",
    "    }\n",
    "}\n",
    "```"
   ]
  },
  {
   "cell_type": "markdown",
   "metadata": {
    "slideshow": {
     "slide_type": "subslide"
    }
   },
   "source": [
    "## ```static成員與non-static成員範例二```\n",
    "\n",
    "```\n",
    "    public class MyTest {\n",
    "        void aMethod() {\n",
    "            bMethod(); //合法\n",
    "            dMethod(); //合法\n",
    "        }\n",
    "        void bMethod() { }\n",
    "        static void cMethod() {\n",
    "            bMethod(); //不合法，static成員不能存取non-static成員\n",
    "            dMethod(); //合法\n",
    "        }\n",
    "        static void dMethod() {\n",
    "            new MyTest().bMethod(); //合法，以物件實體存取物件成員\n",
    "        }\n",
    "    }\n",
    "```"
   ]
  },
  {
   "cell_type": "markdown",
   "metadata": {
    "slideshow": {
     "slide_type": "slide"
    }
   },
   "source": [
    "## 讓我們開始物件導向\n",
    "\n",
    "- 物件導向的精神\n",
    "    - 繼承 ```(Inheritance)```\n",
    "    - 封裝 ```(Encapsulation)```\n",
    "    - 多型 ```(Polymorphism)```"
   ]
  },
  {
   "cell_type": "markdown",
   "metadata": {
    "slideshow": {
     "slide_type": "slide"
    }
   },
   "source": [
    "## ```繼承 (Inheritance)```\n",
    "\n",
    "- 繼承的主要概念\n",
    "    - 為了讓類別物件可以重複使用，在實務上以```extends```達到繼承關係\n",
    "    - 當子類別繼承了父類別後即可使用父類別的資源，不過存取的範圍受限於```default、protected、public、private```的修飾字\n",
    "    - java的繼承只限定單一繼承，即子類別只能來自一個父類別\n",
    "    ```\n",
    "        class Father { }   //父類別\n",
    "        public class Son extends Father{ } //子類別\n",
    "    ```"
   ]
  },
  {
   "cell_type": "markdown",
   "metadata": {
    "slideshow": {
     "slide_type": "subslide"
    }
   },
   "source": [
    "## 繼承範例\n",
    "\n",
    "```\n",
    "class Father {\n",
    "    public int time = 10;\n",
    "    public void skill() {\n",
    "        System.out.println(\"甩手運動\");\n",
    "    }\n",
    "}\n",
    "class Son extends Father {\n",
    "}\n",
    "\n",
    "public class Inheritance {\n",
    "    public static void main(String args[]) {\n",
    "        Son son = new Son();\n",
    "        System.out.println(son.time + \"點準時\" + son.skill());\n",
    "    }\n",
    "}\n",
    "```"
   ]
  },
  {
   "cell_type": "markdown",
   "metadata": {
    "slideshow": {
     "slide_type": "subslide"
    }
   },
   "source": [
    "## 繼承關係下的建構子\n",
    "\n",
    "- 由於子類別繼承了父類別，因此子類別在建立物件實體時建構子會\"先\"呼叫父類別(super)的建構子\n",
    "\n",
    "```\n",
    "class Son extends Father {\n",
    "    Son() {\n",
    "        super(); //呼叫Father無參數建構子\n",
    "    }\n",
    "}\n",
    "```"
   ]
  },
  {
   "cell_type": "markdown",
   "metadata": {
    "slideshow": {
     "slide_type": "subslide"
    }
   },
   "source": [
    "## 繼承關係下無參數建構子範例\n",
    "\n",
    "- 子類別可不寫super()，會自動執行\n",
    "- 範例程式碼\n",
    "\n",
    "```\n",
    "class A {\n",
    "    A(){\n",
    "        System.out.println(\"A\");\n",
    "    }\n",
    "}\n",
    "class B extends A{\n",
    "    B(){\n",
    "        System.out.println(\"B\");\n",
    "    }\n",
    "}\n",
    "class C extends B{\n",
    "    C(){\n",
    "        System.out.println(\"C\");\n",
    "    }\n",
    "}\n",
    "\n",
    "public class Inheritance {\n",
    "    public static void main(String[] args) {\n",
    "        C c = new C();\n",
    "    }\n",
    "}\n",
    "```\n",
    "- 執行結果\n",
    "\n",
    "```\n",
    "A\n",
    "B\n",
    "C\n",
    "```"
   ]
  },
  {
   "cell_type": "markdown",
   "metadata": {
    "slideshow": {
     "slide_type": "subslide"
    }
   },
   "source": [
    "## 繼承關係下有參數建構子範例\n",
    "\n",
    "- 若寫了帶有參數的程式碼而沒寫沒帶參數的建構子，則必須要在子類別寫自行帶入參數的super();\n",
    "- 範例程式碼\n",
    "\n",
    "```\n",
    "class A {\n",
    "    A(char a) {\n",
    "        System.out.println(a);\n",
    "    }\n",
    "}\n",
    "class B extends A{\n",
    "    B() {\n",
    "        super('A');\n",
    "        System.out.println(\"B\");\n",
    "    }\n",
    "}\n",
    "public class Inheritance {\n",
    "    public static void main(String[] args) {\n",
    "        B b = new B();\n",
    "    }\n",
    "}\n",
    "```\n",
    "- 執行結果\n",
    "```\n",
    "A\n",
    "B\n",
    "```"
   ]
  },
  {
   "cell_type": "markdown",
   "metadata": {
    "slideshow": {
     "slide_type": "subslide"
    }
   },
   "source": [
    "## ```this / super```\n",
    "\n",
    "- ```this```關鍵字\n",
    "    - 用於參考目前類別的屬性、方法(包含建構子)，只能放於方法內(包含建構子)\n",
    "- ```super```關鍵字\n",
    "    - 當有繼承時才會用到\n",
    "    - 子類別使用super指向父類別的屬性、方法(包含建構子)"
   ]
  },
  {
   "cell_type": "markdown",
   "metadata": {
    "slideshow": {
     "slide_type": "subslide"
    }
   },
   "source": [
    "## 覆寫(遮蔽)與超載\n",
    "\n",
    "- 覆寫 ```(Overriding)```\n",
    "    - 在繼承關係中，子類別實作一個與父類別相同的「方法」稱為覆寫\n",
    "- 遮蔽 ```(Shadow)```\n",
    "    - 在繼承關係中，子類別宣告一個與父類別相同的「變數」稱為遮蔽\n",
    "- 超載 ```(Overloading)```\n",
    "    - 只程式中所撰寫的方法因傳入參數的不同產生多個不同的實作"
   ]
  },
  {
   "cell_type": "markdown",
   "metadata": {
    "slideshow": {
     "slide_type": "subslide"
    }
   },
   "source": [
    "## ```覆寫 (Overriding)```\n",
    "\n",
    "- 覆寫 ```(Overriding)```\n",
    "    - 在繼承關係中，子類別實作一個與父類別相同的「方法」稱為覆寫"
   ]
  },
  {
   "cell_type": "markdown",
   "metadata": {
    "slideshow": {
     "slide_type": "subslide"
    }
   },
   "source": [
    "## 覆寫範例一\n",
    "\n",
    "- 覆寫範例程式碼\n",
    "```\n",
    "    class Father {\n",
    "        void aMethod() {\n",
    "            System.out.println(\"Father method\");\n",
    "        }\n",
    "    }\n",
    "    \n",
    "    public class Son extends Father {\n",
    "        public static void main(String args[]) {\n",
    "            Son s = new Son();\n",
    "            s.aMethod();\n",
    "        }\n",
    "        void aMethod() {\n",
    "            System.out.println(\"Son method\");\n",
    "        }\n",
    "    }\n",
    "```\n",
    "\n",
    "- 程式碼輸出結果\n",
    "```\n",
    "    Son method\n",
    "```"
   ]
  },
  {
   "cell_type": "markdown",
   "metadata": {
    "slideshow": {
     "slide_type": "subslide"
    }
   },
   "source": [
    "## 覆寫範例二\n",
    "\n",
    "- 覆寫範例程式碼\n",
    "```\n",
    "class Father {\n",
    "        void aMethod() {\n",
    "            System.out.println(\"Father method\");\n",
    "        }\n",
    "    }\n",
    "    \n",
    "    public class Son extends Father {\n",
    "        public static void main(String args[]) {\n",
    "            Son s = new Son();\n",
    "            s.aMethod();\n",
    "        }\n",
    "        void aMethod() {\n",
    "            super.aMethod();\n",
    "        }\n",
    "    }\n",
    "```\n",
    "- 程式碼輸出結果\n",
    "```\n",
    "    Father method\n",
    "```"
   ]
  },
  {
   "cell_type": "markdown",
   "metadata": {
    "slideshow": {
     "slide_type": "subslide"
    }
   },
   "source": [
    "## ```遮蔽 (Shadow)```\n",
    "\n",
    "- 遮蔽 ```(Shadow)```\n",
    "    - 在繼承關係中，子類別宣告一個與父類別相同的「變數」稱為遮蔽"
   ]
  },
  {
   "cell_type": "markdown",
   "metadata": {
    "slideshow": {
     "slide_type": "subslide"
    }
   },
   "source": [
    "## 遮蔽範例\n",
    "\n",
    "```\n",
    "class AnalysisObject {\n",
    "    \n",
    "    int User;\n",
    "}\n",
    "\n",
    "class OtherObject extends AnalysisObject {\n",
    "    int User = 10000;\n",
    "}\n",
    "```"
   ]
  },
  {
   "cell_type": "markdown",
   "metadata": {
    "slideshow": {
     "slide_type": "subslide"
    }
   },
   "source": [
    "## ```超載 (Overloading)```\n",
    "\n",
    "- 超載 ```(Overloading)```\n",
    "    - 只程式中所撰寫的方法因傳入參數的不同產生多個不同的實作，又分為方法的超載、建構子的超載"
   ]
  },
  {
   "cell_type": "markdown",
   "metadata": {
    "slideshow": {
     "slide_type": "subslide"
    }
   },
   "source": [
    "## ```超載 (Overloading)```\n",
    "\n",
    "- 超載在傳入不同參數的情況下，也可以有不同回傳值\n",
    "```\n",
    "void method() { } //合法\n",
    "int method() { } //Error,方法重複定義\n",
    "int method(int variable) { } //合法\n",
    "```\n",
    "\n",
    "- 參數列順序不同即視為不同的超載\n",
    "```\n",
    "void method(int variableI,String variableS)\n",
    "void method(String variableS, int variableI)\n",
    "```"
   ]
  },
  {
   "cell_type": "markdown",
   "metadata": {
    "slideshow": {
     "slide_type": "subslide"
    }
   },
   "source": [
    "## 超載範例\n",
    "\n",
    "```\n",
    "    class Car {\n",
    "        void method() {\n",
    "        }\n",
    "    }\n",
    "    \n",
    "    public class Toyota extends Car{\n",
    "        void method() {   //覆寫\n",
    "        }\n",
    "        void method(int i) {  //超載\n",
    "        }\n",
    "        int method(int i) {  //Error,重複撰寫\n",
    "        }\n",
    "        int method() { //超載\n",
    "            return 0;\n",
    "        }\n",
    "    }\n",
    "```\n",
    "\n",
    "\n",
    "```P.S. 建構子超載的概念與方法超載的概念相同```"
   ]
  },
  {
   "cell_type": "markdown",
   "metadata": {
    "slideshow": {
     "slide_type": "slide"
    }
   },
   "source": [
    "## ```封裝 (Encapsulation)```\n",
    "\n",
    "- 封裝的主要概念\n",
    "    - 其目的是為了使物件的存取更安全，因此將物件的狀態做隱藏的動作\n",
    "- 封裝是實作\n",
    "    - 透過將物件狀態隱藏，並開啟一個方法或介面統一存取該物件的內部資料"
   ]
  },
  {
   "cell_type": "markdown",
   "metadata": {
    "slideshow": {
     "slide_type": "subslide"
    }
   },
   "source": [
    "## 封裝範例\n",
    "\n",
    "```\n",
    "public class Encapsulation {\n",
    "    public static void main(String[] args) {\n",
    "        Item i = new Item();\n",
    "        i.setitemCount(1000);\n",
    "        System.out.println(\"商品數為\" + i.getitemCount());\n",
    "    }\n",
    "}\n",
    "\n",
    "class Item {\n",
    "    private int itemCount;\n",
    "    \n",
    "    public void setitemCount(int item) {\n",
    "        this.itemCount = item;\n",
    "    }\n",
    "    \n",
    "    public int getitemCount() {\n",
    "        return itemCount;\n",
    "    }\n",
    "}\n",
    "```"
   ]
  },
  {
   "cell_type": "markdown",
   "metadata": {
    "slideshow": {
     "slide_type": "slide"
    }
   },
   "source": [
    "## 多型\n",
    "\n",
    "- 多型的主要概念\n",
    "    - 為了開發可擴充程式，讓程式撰寫更由彈性\n",
    "- 多型實作的敘述\n",
    "    - 台灣人(Taiwaness)屬於亞洲人(Asia)，亞洲人屬於人(Person)\n",
    "- 多型實作程式碼\n",
    "```\n",
    "    class Person { }\n",
    "    class Asia extends Person { }\n",
    "    class Taiwaness extends Asia { }\n",
    "    \n",
    "    class Europe extends Person{ }\n",
    "    class American extends Europe{ }\n",
    "```"
   ]
  },
  {
   "cell_type": "markdown",
   "metadata": {
    "slideshow": {
     "slide_type": "subslide"
    }
   },
   "source": [
    "## 多型的資料型別\n",
    "\n",
    "- 合法的宣告\n",
    "    - 一般宣告方式\n",
    "    ```\n",
    "    類別 = new 類別實體();\n",
    "    Person person = new Person();\n",
    "    Asia asia = new Asia();\n",
    "    .......等等\n",
    "    ```\n",
    "    - 多型的宣告方式\n",
    "    ```\n",
    "    父類別呼叫 = new 子類別實體();\n",
    "    Person person = new Asia(); //以人的角度看亞洲人\n",
    "    Europe europe = new American(); //以歐洲人的角度看美國人\n",
    "    ```\n",
    "- 不合法的宣告\n",
    "    ```\n",
    "    Asia asia = new American(); //沒有繼承關係\n",
    "    Taiwaness taiwaness = new Asia(); //以台灣人的角度看亞洲人，所以全部的亞洲人都是台灣人?\n",
    "    ```"
   ]
  },
  {
   "cell_type": "markdown",
   "metadata": {
    "slideshow": {
     "slide_type": "subslide"
    }
   },
   "source": [
    "## 多型範例程式碼一 (參考至猛虎出閘)\n",
    "\n",
    "- 程式概述\n",
    "    - Tiger繼承Cat繼承Animal、Bird繼承Animal、Zoo類別操作整個動物體系\n",
    "    \n",
    "```\n",
    "class Animal {\n",
    "    public void move(){\n",
    "        System.out.println(\"移動...\");\n",
    "    }\n",
    "}\n",
    "class Cat extends Animal {\n",
    "    public void move(){\n",
    "        System.out.println(\"跑跑跳跳...\");\n",
    "    }\n",
    "    public void skill(){\n",
    "        System.out.println(\"洗澡...\");\n",
    "    }\n",
    "}\n",
    "\n",
    "class Bird extends Animal {\n",
    "    public void move(){\n",
    "        System.out.println(\"飛飛飛...\");\n",
    "    }\n",
    "}\n",
    "class Tiger extends Cat {\n",
    "    public void skill(){\n",
    "        System.out.println(\"狩獵...\");\n",
    "    }\n",
    "}\n",
    "\n",
    "public class Zoo {\n",
    "    public static void main(String[] args){\n",
    "        Tiger t = new Tiger();\n",
    "        t.skill();\n",
    "        t.move();\n",
    "    }\n",
    "}\n",
    "```\n",
    "- 執行結果為\n",
    "```\n",
    "狩獵...\n",
    "跑跑跳跳...\n",
    "```"
   ]
  },
  {
   "cell_type": "markdown",
   "metadata": {
    "slideshow": {
     "slide_type": "subslide"
    }
   },
   "source": [
    "## 多型範例程式碼二 (參考至猛虎出閘)\n",
    "\n",
    "- 主程式改為\n",
    "```\n",
    "public class Zoo {\n",
    "    public static void main(String[] args){\n",
    "        Cat c = new Tiger();\n",
    "        c.skill();\n",
    "        c.move();\n",
    "    }\n",
    "}\n",
    "```\n",
    "- 執行結果為\n",
    "```\n",
    "狩獵...\n",
    "跑跑跳跳...\n",
    "```\n",
    "\n",
    "P.S. 從這個例子可以看出，若父類別呼叫子類別實體時、父類別無該方法則會有錯誤發生。 範例如下\n",
    "```\n",
    "將上頁投影片的Cat類別改成\n",
    "class Cat extends Animal {\n",
    "    public void move(){\n",
    "        System.out.println(\"跑跑跳跳...\");\n",
    "    }\n",
    "}\n",
    "主程式依舊為\n",
    "public class Zoo {\n",
    "    public static void main(String[] args){\n",
    "        Cat c = new Tiger();\n",
    "        c.skill();  //Error，因為父類別Cat無skill方法\n",
    "        c.move();\n",
    "    }\n",
    "}\n",
    "```"
   ]
  },
  {
   "cell_type": "markdown",
   "metadata": {
    "slideshow": {
     "slide_type": "subslide"
    }
   },
   "source": [
    "## 多型範例程式碼三 (參考至猛虎出閘)\n",
    "\n",
    "- 主程式改為\n",
    "```\n",
    "public class Zoo {\n",
    "    public static void main(String[] args){\n",
    "        Animal a = new Tiger();\n",
    "        a.move();  \n",
    "        a.skill(); //Error，因為父類別Animal無skill方法\n",
    "    }\n",
    "}\n",
    "```\n"
   ]
  },
  {
   "cell_type": "markdown",
   "metadata": {
    "slideshow": {
     "slide_type": "subslide"
    }
   },
   "source": [
    "## 多型重點整理\n",
    "\n",
    "- 多型的概念為一句話了解\n",
    "\n",
    "```\n",
    "父類別呼叫 = new 子類別();\n",
    "\n",
    "雖然是由子類別實體(new)找(.)子類別方法(包含繼承)實作，但若父類別本身無撰寫要實作的方法!\n",
    "則.....會產生錯誤。\n",
    "```"
   ]
  },
  {
   "cell_type": "markdown",
   "metadata": {
    "slideshow": {
     "slide_type": "subslide"
    }
   },
   "source": [
    "## 轉型\n",
    "\n",
    "- 為了解決範例程式碼三的問題，java提供了暫時轉型的功能\n",
    "\n",
    "```\n",
    "public calss Zoo {\n",
    "    public static void main(String[] args) {\n",
    "        Animal a = new Tiger();\n",
    "        a.move;\n",
    "        ((Tiger) a).skill(); //將當下a觀點轉為Tiger\n",
    "    }\n",
    "}\n",
    "```\n"
   ]
  },
  {
   "cell_type": "markdown",
   "metadata": {
    "slideshow": {
     "slide_type": "subslide"
    }
   },
   "source": [
    "\n",
    "## 屬性的多型(參考至猛虎出閘)\n",
    "\n",
    "- 先前談論的多型範例多以方法為主，屬性的多型與方法有些許的差異\n",
    "\n",
    "```\n",
    "class Father {\n",
    "    String name = \"Father\";\n",
    "    String getName() {\n",
    "        return name;\n",
    "    }\n",
    "    String greeting() {\n",
    "        return \"class Father\";\n",
    "    }\n",
    "}\n",
    "\n",
    "class Son extends Father {\n",
    "    String name = \"Son\";\n",
    "    String greeting() {\n",
    "        return \"class Son\";\n",
    "    }\n",
    "    public static void main(String[] args){\n",
    "        Father father = new Son();\n",
    "        System.out.println(father.greeting());\n",
    "        System.out.println(father.name);\n",
    "        System.out.println(father.getName());\n",
    "    }\n",
    "}\n",
    "```\n",
    "\n",
    "- 程式碼結果為\n",
    "```\n",
    "class Son\n",
    "Father\n",
    "Father\n",
    "```"
   ]
  },
  {
   "cell_type": "markdown",
   "metadata": {
    "slideshow": {
     "slide_type": "subslide"
    }
   },
   "source": [
    "## 屬性的多型重點整理\n",
    "\n",
    "- 在繼承關係中，重複撰寫方法稱為繼承、重複撰寫屬性稱為遮蔽。\n",
    "- 在多型的方法中(父類別呼叫、子類別實作)，方法的覆寫機制會實現、而屬性則會沿用父類別的名稱"
   ]
  },
  {
   "cell_type": "markdown",
   "metadata": {
    "slideshow": {
     "slide_type": "subslide"
    }
   },
   "source": [
    "## 多型與轉型範例 (參考至猛虎出閘)\n",
    "\n",
    "- 範例程式碼\n",
    "\n",
    "```\n",
    "class Father {\n",
    "    String name = \"Father\";\n",
    "    String getName() {\n",
    "        return name;\n",
    "    }\n",
    "    String greeting() {\n",
    "        return \"class Father\";\n",
    "    }\n",
    "}\n",
    "\n",
    "class Son extends Father{\n",
    "    String name = \"Son\";\n",
    "    String greeting() {\n",
    "        return \"class Son\";\n",
    "    }\n",
    "    void foo(){\n",
    "        System.out.println(name);\n",
    "        System.out.println(this.name);\n",
    "        System.out.println(super.name);\n",
    "        System.out.println(((Son)this).name);\n",
    "        System.out.println(((Father)this).name);\n",
    "        System.out.println(((Son)this).greeting());\n",
    "        System.out.println(((Father)this).greeting());  //重要範例\n",
    "    }\n",
    "    public static void main(String[] args) {\n",
    "        new Son().foo();\n",
    "    }\n",
    "}\n",
    "```\n",
    "- 輸出結果\n",
    "```\n",
    "Son\n",
    "Son\n",
    "Father\n",
    "Son\n",
    "Father\n",
    "class Son\n",
    "class Son  <----重要範例結果\n",
    "```\n",
    "\n",
    "```P.S. 該重要範例雖然種行為Father不過實作哪個方法是由this也就是new Son()決定，因此採用覆寫機制輸出class Son\n",
    "```"
   ]
  },
  {
   "cell_type": "markdown",
   "metadata": {
    "slideshow": {
     "slide_type": "subslide"
    }
   },
   "source": [
    "## 多型與```static```成員 (參考至猛虎出閘)\n",
    "\n",
    "- 範例程式碼\n",
    "\n",
    "```\n",
    "class A {\n",
    "    static String name = \"A\";\n",
    "    static String greeting() {\n",
    "        return \"class A\";\n",
    "    }\n",
    "}\n",
    "\n",
    "class B extends A {\n",
    "    static String name = \"B\";\n",
    "    static String greeting() {\n",
    "        return \"class B\";\n",
    "    }\n",
    "    public static void main(String[] args) {\n",
    "        A b = new B();\n",
    "        System.out.println(b.name);\n",
    "        System.out.println(b.greeting());\n",
    "    }\n",
    "}\n",
    "```\n",
    "- 輸出結果\n",
    "\n",
    "```\n",
    "A\n",
    "class A\n",
    "```"
   ]
  },
  {
   "cell_type": "markdown",
   "metadata": {
    "slideshow": {
     "slide_type": "slide"
    }
   },
   "source": [
    "## vararg\n",
    "\n",
    "- 在方法中，當不知道使用者會傳入多少參數(如:計算機)進行運算時則可使用```vararg```。\n",
    "- 範例\n",
    "```\n",
    "public calss Calculate {\n",
    "    public static void main(String[] args) {\n",
    "        Calculate calc = new Calculate();\n",
    "        calc.calcAdd(1,2,3,4,5,6);\n",
    "        calc.calcAdd(94,87)\n",
    "    }\n",
    "    public int calcAdd(int... c) {\n",
    "        int sum = 0;\n",
    "        for(int i : c)\n",
    "            sum+=i;\n",
    "        return sum;\n",
    "    }\n",
    "}\n",
    "```"
   ]
  },
  {
   "cell_type": "markdown",
   "metadata": {
    "slideshow": {
     "slide_type": "subslide"
    }
   },
   "source": [
    "## vararg注意事項\n",
    "\n",
    "- ```vararg```只能放於方法中的最後一個參數\n",
    "- 一個方法中只能有一個```vararg```\n",
    "- 正確示範\n",
    "```\n",
    "void methodOne(int i, int... j){ }\n",
    "void methodTwo(int... v) { }\n",
    "```\n",
    "- 錯誤示範\n",
    "```\n",
    "void methodOne(int... i, int... j ){ } //Error\n",
    "void methodTwo(int...i , int j){ } //Error\n",
    "```"
   ]
  }
 ],
 "metadata": {
  "celltoolbar": "Slideshow",
  "kernelspec": {
   "display_name": "Python 3",
   "language": "python",
   "name": "python3"
  },
  "language_info": {
   "codemirror_mode": {
    "name": "ipython",
    "version": 3
   },
   "file_extension": ".py",
   "mimetype": "text/x-python",
   "name": "python",
   "nbconvert_exporter": "python",
   "pygments_lexer": "ipython3",
   "version": "3.6.1"
  }
 },
 "nbformat": 4,
 "nbformat_minor": 2
}
