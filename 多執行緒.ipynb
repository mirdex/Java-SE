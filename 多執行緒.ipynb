{
 "cells": [
  {
   "cell_type": "markdown",
   "metadata": {
    "slideshow": {
     "slide_type": "slide"
    }
   },
   "source": [
    "# 多執行緒\n",
    "\n",
    "## Da-Wei Chiang"
   ]
  },
  {
   "cell_type": "markdown",
   "metadata": {
    "slideshow": {
     "slide_type": "slide"
    }
   },
   "source": [
    "## ```行程(Process)、多工(Multitasking)與多執行緒(Thread)```\n",
    "\n",
    "- 程序\n",
    "    - 在作業系統下，所執行的應用程式稱為行程.\n",
    "    - 如 : Windows下執行小畫家.\n",
    "- 多工\n",
    "    - 在作業系統下，同時執行多個應用程式稱為多工.\n",
    "    - 如 : Windows下同時執行小畫家、瀏覽器、Office等三個程序.\n",
    "- 多執行緒\n",
    "    - 一個程序擁有多個執行流程.\n",
    "    - 如 : 使用瀏覽器播放Youtube影片、下載檔案、捲動視窗瀏覽網頁內容"
   ]
  },
  {
   "cell_type": "markdown",
   "metadata": {
    "slideshow": {
     "slide_type": "slide"
    }
   },
   "source": [
    "## ```JAVA的多執行緒```\n",
    "\n",
    "- 每一個程式至少有一個執行緒(主執行緒)來執行應用程式\n",
    "- ```Java```的多執行緒是靠主執行緒啟動其他的執行緒來達成\n"
   ]
  },
  {
   "cell_type": "markdown",
   "metadata": {
    "slideshow": {
     "slide_type": "slide"
    }
   },
   "source": [
    "## ```JAVA的多執行緒```\n",
    "\n",
    "- ```Java```提供以下兩種方式來撰寫多執行緒的程式\n",
    "    - 繼承Thread類別\n",
    "    - 實作Runnable介面(當該類別已經繼承其他類別時使用)"
   ]
  },
  {
   "cell_type": "markdown",
   "metadata": {
    "slideshow": {
     "slide_type": "slide"
    }
   },
   "source": [
    "## ```繼承Thread類別```\n",
    "\n",
    "- 常用```Thread```類別建構子\n",
    "\n",
    "|Thread建構子|簡要說明|\n",
    "|---|----|\n",
    "|Thread()|分派一個新的執行緒|\n",
    "|Thread(String name)|分派一個新的執行緒，並給定執行緒名稱|\n",
    "|Thread(Runnable target)|傳入Runnable物件並指派新執行緒|\n",
    "|Thread(Runnable target, String name)|傳入Runnable物件並指派新執行緒與給定執行緒名稱|"
   ]
  },
  {
   "cell_type": "markdown",
   "metadata": {
    "slideshow": {
     "slide_type": "subslide"
    }
   },
   "source": [
    "## ```繼承Thread類別```\n",
    "\n",
    "- 常用```Thread```類別方法\n",
    "\n",
    "|Thread方法名稱|回傳值|簡要說明|\n",
    "|---|----|----|\n",
    "|destory()|void|毀掉一個執行緒|\n",
    "|getName()|String|回傳執行緒名稱|\n",
    "|getPriority()|int|回傳執行緒優先權|\n",
    "|run()|void|執行執行緒的工作|\n",
    "|sleep()|static void|暫停正在執行的執行緒|\n",
    "|start()|void|將執行緒丟入Runnable pool，等待run()被呼叫執行\n",
    "|stop()|void|停止目前正在執行的執行緒\n",
    "|suspend()|void|停止目前正在執行的執行緒\n",
    "|toString()|String|利用String資料型態傳回執行緒名稱\n",
    "|yield()|static void|目前執行的執行緒先行暫停，讓與其他執行緒執行\n"
   ]
  },
  {
   "cell_type": "markdown",
   "metadata": {
    "slideshow": {
     "slide_type": "subslide"
    }
   },
   "source": [
    "## ```繼承Thread類別範例```\n",
    "\n",
    "```\n",
    "public class MyThread {\n",
    "    public static void main(String[] args) {\n",
    "        ThreadExample t1 = new ThreadExample();\n",
    "        t1.setName(\"T1\");  //設定執行緒名稱\n",
    "        t1.start(); //執行執行緒\n",
    "        System.out.println(\"可用執行緒 : \" + Thread.activeCount() + \"條\");\n",
    "    }\n",
    "}\n",
    "\n",
    "class ThreadExample extends Thread {\n",
    "    public void run() {\n",
    "        for(int i=0;i<=1000;i++) {\n",
    "            String tName = Thread.currentThread().getName();\n",
    "            System.out.println(tName + \":\" + i);\n",
    "        }\n",
    "    }\n",
    "}\n",
    "```"
   ]
  },
  {
   "cell_type": "markdown",
   "metadata": {
    "slideshow": {
     "slide_type": "slide"
    }
   },
   "source": [
    "## ```實作Runnable介面```\n",
    "\n",
    "- ```Runnable介面僅定義run()方法```\n",
    "\n",
    "```\n",
    "    public inerface Runnable {\n",
    "        public abstruct void run();\n",
    "    }\n",
    "```"
   ]
  },
  {
   "cell_type": "markdown",
   "metadata": {
    "slideshow": {
     "slide_type": "subslide"
    }
   },
   "source": [
    "## ```實作Runnable介面範例```\n",
    "\n",
    "```\n",
    "public class MyThread {\n",
    "    public static void main(String[] args) {\n",
    "        ThreadExample te1 = new ThreadExample();\n",
    "        Thread t1 = new Thread(te1,\"T1\")  //設定執行緒名稱\n",
    "        t1.start(); //執行執行緒\n",
    "    }\n",
    "}\n",
    "\n",
    "class ThreadExample implements Runnable {\n",
    "    public void run() {\n",
    "        for(int i=0;i<=1000;i++) {\n",
    "            String tName = Thread.currentThread().getName();\n",
    "            System.out.println(tName + \":\" + i);\n",
    "        }\n",
    "    }\n",
    "}\n",
    "```"
   ]
  },
  {
   "cell_type": "markdown",
   "metadata": {
    "slideshow": {
     "slide_type": "slide"
    }
   },
   "source": [
    "## 執行緒的控制\n",
    "\n",
    "- 欲控制執行緒可由兩點進行控制\n",
    "    - 執行緒的優先權\n",
    "        - 優先權只能是1~10的數字，數字越大優先權越大\n",
    "    - 暫停執行緒\n",
    "        - 暫停執行緒可讓其他閒置已久重要的執行緒先行執行"
   ]
  },
  {
   "cell_type": "markdown",
   "metadata": {
    "slideshow": {
     "slide_type": "subslide"
    }
   },
   "source": [
    "## 執行緒的優先權\n",
    "\n",
    "- 實務上可以使用以下兩個參數設定與影響執行緒順序\n",
    "\n",
    "|方法名稱|回傳值|簡要說明|\n",
    "|---|----|----|\n",
    "|getPriority()|int|傳回目前執行緒的優先權|\n",
    "|setPriority(int priority)|void|傳入數值來改變執行緒的優先權|"
   ]
  },
  {
   "cell_type": "markdown",
   "metadata": {
    "slideshow": {
     "slide_type": "subslide"
    }
   },
   "source": [
    "## 暫停執行緒\n",
    "\n",
    "- 暫停執行緒所使用的方法如下\n",
    "\n",
    "|方法名稱|回傳值|簡要說明|\n",
    "|---|----|----|\n",
    "|sleep()|static void|暫停執行緒一段時間，讓其他執行緒可以執行|\n",
    "|join()、join(long a)、join(long a,int b)|void|可指定要哪個執行緒join進來執行並請可設定join的執行時間|\n",
    "|yield()|static void|讓出自己所使用的CPU資源，讓其他執行緒可以執行|"
   ]
  }
 ],
 "metadata": {
  "celltoolbar": "Slideshow",
  "kernelspec": {
   "display_name": "Python 3",
   "language": "python",
   "name": "python3"
  },
  "language_info": {
   "codemirror_mode": {
    "name": "ipython",
    "version": 3
   },
   "file_extension": ".py",
   "mimetype": "text/x-python",
   "name": "python",
   "nbconvert_exporter": "python",
   "pygments_lexer": "ipython3",
   "version": "3.6.1"
  }
 },
 "nbformat": 4,
 "nbformat_minor": 2
}
