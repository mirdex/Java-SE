{
 "cells": [
  {
   "cell_type": "markdown",
   "metadata": {
    "slideshow": {
     "slide_type": "slide"
    }
   },
   "source": [
    "# ```內部類別(Inner Class)```\n",
    "\n",
    "## Da-Wei Chiang"
   ]
  },
  {
   "cell_type": "markdown",
   "metadata": {
    "slideshow": {
     "slide_type": "slide"
    }
   },
   "source": [
    "## 內部類別的定義與存取特性\n",
    "\n",
    "- 內部類別的定義\n",
    "    - 在類別中在定義一個類別\n",
    "- 內部類別的存取特性\n",
    "    - 一般內部類別\n",
    "    - 方法內部類別\n",
    "    - 匿名類別\n",
    "    - 靜態內部類別"
   ]
  },
  {
   "cell_type": "markdown",
   "metadata": {
    "slideshow": {
     "slide_type": "slide"
    }
   },
   "source": [
    "# 一般內部類別"
   ]
  },
  {
   "cell_type": "markdown",
   "metadata": {
    "slideshow": {
     "slide_type": "subslide"
    }
   },
   "source": [
    "## 一般內部類別範例一\n",
    "\n",
    "- 一個外部類別可以有很多個內部類別，一個內部類別也可以有很多個次內部類別\n",
    "\n",
    "```\n",
    "class MyClass {   //外部類別\n",
    "    class MyInnerClass1 {     //內部類別\n",
    "        class MyInnerClassAgain1 {    //次內部類別\n",
    "        }\n",
    "        class MyInnerClassAgain2 {    //次內部類別\n",
    "        }\n",
    "    }\n",
    "    class MyInnerClass2 {    //內部類別\n",
    "    }\n",
    "    .\n",
    "    .\n",
    "    .\n",
    "    class MyInnerClassN {   //內部類別\n",
    "    }\n",
    "}\n",
    "```"
   ]
  },
  {
   "cell_type": "markdown",
   "metadata": {
    "slideshow": {
     "slide_type": "subslide"
    }
   },
   "source": [
    "## 一般內部類別範例二\n",
    "\n",
    "- 內部類別的存取範例程式碼如下\n",
    "\n",
    "```\n",
    "class MyClass {\n",
    "    class MyInnerClass {\n",
    "        public void foo() {\n",
    "            System.out.println(\"Hello Inner Class.\");\n",
    "        }\n",
    "    }\n",
    "}\n",
    "\n",
    "class ImplementInnerClass {\n",
    "    public static void main(String[] args) {\n",
    "        MyClass myclass = new MyClass();\n",
    "        MyClass.MyInnerClass myinnerclass = myclass.new MyInnerClass();\n",
    "        myinnerclass.foo();\n",
    "    }\n",
    "}\n",
    "```\n",
    "\n",
    "- 執行結果\n",
    "\n",
    "```\n",
    "Hello Inner Class.\n",
    "```\n",
    "\n",
    "P.S. 也可以使用外部類別呼叫foo方法，撰寫方式為myclass.foo();"
   ]
  },
  {
   "cell_type": "markdown",
   "metadata": {
    "slideshow": {
     "slide_type": "subslide"
    }
   },
   "source": [
    "## 一般內部類別成員存取範例\n",
    "\n",
    "- 範例程式碼如下\n",
    "\n",
    "```\n",
    "class MyOuter {\n",
    "    private static int sx = 9;\n",
    "    private int x = 7;\n",
    "    class MyInner {\n",
    "        private int x = 77;\n",
    "        public void foo() {\n",
    "            int x = 777;\n",
    "            System.out.println(\"Local x = \" + x);\n",
    "            System.out.println(\"MyInner's x = \" + this.x);\n",
    "            System.out.println(\"MyOuter's x = \" + MyOuter.this.x);\n",
    "            System.out.println(\"MyOuter's sx = \" + MyOuter.sx);\n",
    "        }\n",
    "    }\n",
    "}\n",
    "\n",
    "public class RegularInnerClass {\n",
    "    public static void main(String[] args) {\n",
    "        new MyOuter().new MyInner().foo();\n",
    "    }\n",
    "}\n",
    "```\n",
    "\n",
    "- 程式碼輸出結果為\n",
    "```\n",
    "Local x = 777\n",
    "MyInner's x = 77\n",
    "MyOuter's x = 7\n",
    "MyOuter's sx = 9\n",
    "```"
   ]
  },
  {
   "cell_type": "markdown",
   "metadata": {
    "slideshow": {
     "slide_type": "slide"
    }
   },
   "source": [
    "# 方法內部類別"
   ]
  },
  {
   "cell_type": "markdown",
   "metadata": {
    "slideshow": {
     "slide_type": "subslide"
    }
   },
   "source": [
    "## 方法內部類別範例一(參考至猛虎出閘)\n",
    "\n",
    "- 方法內部類別範例\n",
    "```\n",
    "public class MethodInnerClass {\n",
    "    public static void main(String[] args) {\n",
    "        new MethodInnerClass().see();\n",
    "    }\n",
    "    void see() {\n",
    "        class MyInner {\n",
    "            void foo() {\n",
    "                System.out.println(\"Hello\");\n",
    "            }\n",
    "        }\n",
    "        MyInner mi = new MyInner();\n",
    "        my.foo();\n",
    "    }\n",
    "}\n",
    "```\n",
    "- 程式碼輸出結果\n",
    "\n",
    "```\n",
    "    Hello\n",
    "```\n",
    "\n",
    "P.S. 方法內部類別的重點在於建立內部類別物件的程式法需自行撰寫，且必須撰寫在方法中的內部類別定義之後"
   ]
  },
  {
   "cell_type": "markdown",
   "metadata": {
    "slideshow": {
     "slide_type": "subslide"
    }
   },
   "source": [
    "## 方法內部類別範例二(參考至猛虎出閘)\n",
    "\n",
    "- 方法內部類別只能存取final變數，範例程式碼如下\n",
    "\n",
    "```\n",
    "public class MethodInnerClass {\n",
    "    public static void main(String[] args) {\n",
    "        new MethodInnerClass().see();\n",
    "    }\n",
    "    void see() {\n",
    "        final int fx = 7;\n",
    "        int x = 77;\n",
    "        class MyInner {\n",
    "            void foo() {\n",
    "                System.out.println(\"local x = \" + x); //Error，不可存取\n",
    "                System.out.println(final fx = + fx);\n",
    "            }\n",
    "        }\n",
    "        MyInner mi = new MyInner();\n",
    "        my.foo();3\n",
    "    }\n",
    "}\n",
    "```"
   ]
  },
  {
   "cell_type": "markdown",
   "metadata": {
    "slideshow": {
     "slide_type": "slide"
    }
   },
   "source": [
    "# 匿名內部類別"
   ]
  },
  {
   "cell_type": "markdown",
   "metadata": {
    "slideshow": {
     "slide_type": "subslide"
    }
   },
   "source": [
    "## 內部類別程式碼範例(參考至猛虎出閘)\n",
    "\n",
    "- 匿名類別在程式中只能用到一次，以{...}實作\n",
    "- 以下範例程式碼為使用匿名類別實作介面\n",
    "\n",
    "```\n",
    "interface Pet {\n",
    "    String attr = \"cute\";\n",
    "    void skill();\n",
    "    void move();\n",
    "}\n",
    "\n",
    "public class AnonymousClass {\n",
    "    public static void mian(String[] args) {\n",
    "        Pet p = new Pet();\n",
    "            {\n",
    "                public void skill() {\n",
    "                    System.out.println(\"我會握手\");\n",
    "                }\n",
    "                public void move() {\n",
    "                    System.out.println(\"我會跑步\");\n",
    "                }\n",
    "            };\n",
    "        p.skill();\n",
    "        p.move();\n",
    "    }\n",
    "}\n",
    "```\n",
    "- 程式碼輸出結果\n",
    "\n",
    "```\n",
    "我會握手\n",
    "我會跑步\n",
    "```"
   ]
  },
  {
   "cell_type": "markdown",
   "metadata": {
    "slideshow": {
     "slide_type": "subslide"
    }
   },
   "source": [
    "# 靜態內部類別"
   ]
  },
  {
   "cell_type": "markdown",
   "metadata": {
    "slideshow": {
     "slide_type": "subslide"
    }
   },
   "source": [
    "## 靜態內部類別範例一(參考至猛虎出閘)\n",
    "\n",
    "- 靜態內部類別即為在宣告class之前加上static修飾字\n",
    "- 程式碼範例\n",
    "\n",
    "```\n",
    "class MyOuter {\n",
    "    static class MyStatic {\n",
    "        public void fooA() {\n",
    "            System.out.println(\"Static Inner Class non-static method A\");\n",
    "        }\n",
    "        public static void fooB() {\n",
    "            System.out.println(\"Static Inner Class static method B\");\n",
    "        }\n",
    "    }\n",
    "}\n",
    "public class StaticInnerClass {\n",
    "    public static void main(String[] args) {\n",
    "        MyOuter.MyStatic s = new MyOuter.MyStatic();\n",
    "        s.fooA();\n",
    "        s.fooB();\n",
    "        MyOuter.MyStatic.fooB();\n",
    "    }\n",
    "}\n",
    "```\n",
    "\n",
    "- 程式碼輸出結果\n",
    "\n",
    "```\n",
    "    Static Inner Class non-static method A\n",
    "    Static Inner Class static method B\n",
    "    Static Inner Class static method B\n",
    "```"
   ]
  },
  {
   "cell_type": "markdown",
   "metadata": {
    "slideshow": {
     "slide_type": "subslide"
    }
   },
   "source": [
    "## 靜態內部類別範例二(參考至猛虎出閘)\n",
    "\n",
    "- 靜態內部類別與成員的關係程式碼\n",
    "```\n",
    "class MyOuter {\n",
    "    private int x = 7;\n",
    "    static private int sx = 9;\n",
    "    static class MyStatic {\n",
    "        private int x = 77;\n",
    "        static private int sx = 99;\n",
    "        public void fooA() {\n",
    "            System.out.println(sx);\n",
    "            System.out.println(MyOuter.sx);\n",
    "            System.out.println(x);\n",
    "            System.out.println(this.x);\n",
    "            System.out.println(MyOuter.this.x); //Error，static inner class中沒有MyStatic的this指標\n",
    "        }\n",
    "        public static void fooB() {\n",
    "            System.out.println(sx);\n",
    "            System.out.println(MyOuter.sx);\n",
    "        }\n",
    "    }\n",
    "}\n",
    "public class StaticInnerClass {\n",
    "    public static void main(String[] args) {\n",
    "        MyOuter.MyStatic s = new MyOuter.MyStatic();\n",
    "        s.fooA();\n",
    "        s.fooB();\n",
    "    }\n",
    "}\n",
    "```\n",
    "\n",
    "- 程式碼輸出結果\n",
    "\n",
    "```\n",
    "99\n",
    "9\n",
    "77\n",
    "77\n",
    "99\n",
    "9\n",
    "```"
   ]
  },
  {
   "cell_type": "markdown",
   "metadata": {
    "slideshow": {
     "slide_type": "slide"
    }
   },
   "source": [
    "## final修飾字\n",
    "\n",
    "- ```final是Java```語言中修飾的關鍵字，有以下幾個特點\n",
    "    - 經```final```修飾的類別不能被繼承\n",
    "    - 子類別不能覆寫父類別經```final```修飾且子類別可以呼叫的方法\n",
    "    - 經```final```修飾的屬性不可被修改\n",
    "    - 經```final```修飾的屬性只能被初始一次"
   ]
  }
 ],
 "metadata": {
  "celltoolbar": "Slideshow",
  "kernelspec": {
   "display_name": "Python 3",
   "language": "python",
   "name": "python3"
  },
  "language_info": {
   "codemirror_mode": {
    "name": "ipython",
    "version": 3
   },
   "file_extension": ".py",
   "mimetype": "text/x-python",
   "name": "python",
   "nbconvert_exporter": "python",
   "pygments_lexer": "ipython3",
   "version": "3.6.1"
  }
 },
 "nbformat": 4,
 "nbformat_minor": 2
}
