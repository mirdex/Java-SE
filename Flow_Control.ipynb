{
 "cells": [
  {
   "cell_type": "markdown",
   "metadata": {
    "slideshow": {
     "slide_type": "slide"
    }
   },
   "source": [
    "# Java的流程控制\n",
    "\n",
    "\n",
    "## Da-Wei Chiang"
   ]
  },
  {
   "cell_type": "markdown",
   "metadata": {
    "slideshow": {
     "slide_type": "slide"
    }
   },
   "source": [
    "## Java的流程控制包括\n",
    "\n",
    "- 流程敘述\n",
    "    - ```if-else```\n",
    "    - ```switch-case```\n",
    "- 迴圈敘述\n",
    "    - ```for-loop```\n",
    "    - ```for/in```\n",
    "    - ```while-loop```\n",
    "    - ```do-while```"
   ]
  },
  {
   "cell_type": "markdown",
   "metadata": {
    "slideshow": {
     "slide_type": "slide"
    }
   },
   "source": [
    "## 流程敘述\n",
    "\n",
    "- ```if-else```\n",
    "- ```switch-case```"
   ]
  },
  {
   "cell_type": "markdown",
   "metadata": {
    "slideshow": {
     "slide_type": "subslide"
    }
   },
   "source": [
    "## ```if else```\n",
    "\n",
    "- 基本控制樣板\n",
    "```\n",
    "    if(布林運算式) {\n",
    "        if的程式區塊\n",
    "    }\n",
    "    else {\n",
    "        else的程式區塊\n",
    "    }\n",
    "```\n",
    "- 階層式控制樣板\n",
    "```\n",
    "    if(布林運算式) {\n",
    "        //if的程式區塊\n",
    "    }else if {\n",
    "        //else if的程式區塊\n",
    "    }   ...\n",
    "        ...\n",
    "        ...\n",
    "     else if {\n",
    "         //else if的程式區塊\n",
    "    } else {\n",
    "        //else的程式區塊\n",
    "    }\n",
    "```\n",
    "\n",
    "```P.S. 若if、else if、else之後只有一行程式碼，可省略{ }不寫```"
   ]
  },
  {
   "cell_type": "markdown",
   "metadata": {
    "slideshow": {
     "slide_type": "subslide"
    }
   },
   "source": [
    "## ```if else 範例```\n",
    "\n",
    "- 判斷數字是否為偶數\n",
    "```\n",
    "    int num = 10;\n",
    "    if(num % 2 == 0)\n",
    "        System.out.println(\"偶數\");\n",
    "    else\n",
    "        System.out.println(\"基數\");\n",
    "```"
   ]
  },
  {
   "cell_type": "markdown",
   "metadata": {
    "slideshow": {
     "slide_type": "subslide"
    }
   },
   "source": [
    "## ```switch case```\n",
    "\n",
    "- ```switch case的程式執行較if else有效率```\n",
    "- 基本版型\n",
    "    ```\n",
    "        switch(expression : x) {\n",
    "            case 比對子 :\n",
    "                //符合該case的程式區塊\n",
    "                break;\n",
    "            case 比對子 :\n",
    "                //符合該case的程式區塊\n",
    "                break;\n",
    "            ............\n",
    "            ............\n",
    "            ............\n",
    "            ............\n",
    "            default :\n",
    "                //若所有case皆不符合，則執行該default的執行區塊\n",
    "                break;\n",
    "        }\n",
    "    ```"
   ]
  },
  {
   "cell_type": "markdown",
   "metadata": {
    "slideshow": {
     "slide_type": "subslide"
    }
   },
   "source": [
    "## ```switch case 範例```\n",
    "\n",
    "\n",
    "```\n",
    "\n",
    "char myName = 'X';\n",
    "final int x = 10;\n",
    "\n",
    "switch(my_Name) {\n",
    "    case 1 :\n",
    "        System.out.println(myName);\n",
    "        break;\n",
    "    case 'x' :\n",
    "        System.out.println(myName);\n",
    "        break;\n",
    "    case 'X' :\n",
    "        System.out.println(myName);\n",
    "        break;\n",
    "}\n",
    "```\n"
   ]
  },
  {
   "cell_type": "markdown",
   "metadata": {
    "slideshow": {
     "slide_type": "subslide"
    }
   },
   "source": [
    "## final修飾字\n",
    "\n",
    "- ```經過final修飾的類別不可被繼承```\n",
    "- 子類別不能覆寫父類別經```final```修飾且子類別可存取的方法\n",
    "```\n",
    "錯誤示範:\n",
    "    class Father {\n",
    "        public final void method() {\n",
    "            System.out.println(\"呼叫父類別方法\");\n",
    "        }\n",
    "    }\n",
    "    class Son extends Father {\n",
    "        public void method() {\n",
    "            System.out.println(\"呼叫子類別方法\");　//Error，因覆寫父類別中子類別可覆寫的final方法\n",
    "        }\n",
    "    }\n",
    "正確示範:\n",
    "    class Father {\n",
    "        private final void method() {\n",
    "            System.out.println(\"呼叫父類別方法\");\n",
    "        }\n",
    "    }\n",
    "    class Son extends Father {\n",
    "        public void method() {\n",
    "            System.out.println(\"呼叫子類別方法\");　//正確，因Son看不到Father中method方法因此不構成覆寫\n",
    "        }\n",
    "    }\n",
    "```\n",
    "- final修飾的變數，經定義之後則不能再做修改\n",
    "\n",
    "```P.S. 若子類別看的到父類別的方法，並撰寫相同名稱的方法則為\"覆寫\"。若看不到則與覆寫沒有任何關係```"
   ]
  },
  {
   "cell_type": "markdown",
   "metadata": {
    "slideshow": {
     "slide_type": "slide"
    }
   },
   "source": [
    "## 迴圈敘述\n",
    "   - ```for-loop```\n",
    "   - ```for/in```\n",
    "   - ```while-loop```\n",
    "   - ```do-while```"
   ]
  },
  {
   "cell_type": "markdown",
   "metadata": {
    "slideshow": {
     "slide_type": "subslide"
    }
   },
   "source": [
    "# ```for-loop```\n",
    "\n",
    "- 基本版型\n",
    "```\n",
    "    for(初始值設定;布林判斷式;步進敘述) {\n",
    "        //for程式區塊\n",
    "    }\n",
    "```\n",
    "\n",
    "- 巢狀迴圈\n",
    "```\n",
    "    for(初始值設定;布林判斷式;步進敘述) {\n",
    "        //外部迴圈執行區塊\n",
    "        for(初始值設定;布林判斷式;步進敘述) {\n",
    "            //內部迴圈執行區塊\n",
    "        }\n",
    "    }\n",
    "```"
   ]
  },
  {
   "cell_type": "markdown",
   "metadata": {
    "slideshow": {
     "slide_type": "subslide"
    }
   },
   "source": [
    "# ```for-loop範例```\n",
    "\n",
    "- 撰寫九九乘法表程式碼\n",
    "```\n",
    "    for(int i=1;i<10;i++) {\n",
    "        for(int j=1;j<10;j++)\n",
    "            System.out.print(i + \"*\" + j + \"=\" + i*j + \" \");\n",
    "        System.out.println();\n",
    "    }\n",
    "```\n",
    "- 執行結果\n",
    "```\n",
    "    1*1=1 1*2=2 1*3=3 1*4=4 1*5=5 1*6=6 1*7=7 1*8=8 1*9=9\n",
    "    2*1=2 2*2=4 2*3=6 2*4=8 2*5=10 2*6=12 2*7=14 2*8=16 2*9=18\n",
    "    ..........................................................\n",
    "    ..........................................................\n",
    "    9*1=9 9*2=18 9*3=27 9*4=36 9*5=45 9*6=54 9*7=63 9*8=72 9*9=81\n",
    "```"
   ]
  },
  {
   "cell_type": "markdown",
   "metadata": {
    "slideshow": {
     "slide_type": "subslide"
    }
   },
   "source": [
    "# ```continue & break```\n",
    "\n",
    "- ```continue跟break通常搭配for-loop使用，使for-loop使用上更有彈性```\n",
    "- ```continue```\n",
    "    - 強制使迴圈執行步進敘述\n",
    "- ```break```\n",
    "    - 強制使迴圈結束"
   ]
  },
  {
   "cell_type": "markdown",
   "metadata": {
    "slideshow": {
     "slide_type": "subslide"
    }
   },
   "source": [
    "# ```continue & break 範例```\n",
    "\n",
    "- 猜測下列程式碼執行結果，結果將於下張投影片\n",
    "```\n",
    "    for(int i=1;i<=10;i++) {\n",
    "        if(i==8)\n",
    "            break;\n",
    "        if(i%3==0)\n",
    "            continue;\n",
    "        System.out.println(i);\n",
    "    }\n",
    "```"
   ]
  },
  {
   "cell_type": "markdown",
   "metadata": {
    "slideshow": {
     "slide_type": "subslide"
    }
   },
   "source": [
    "# ```continue & break 範例```\n",
    "\n",
    "- 上一張投影片的執行結果為\n",
    "```\n",
    "    1\n",
    "    2\n",
    "    4\n",
    "    5\n",
    "    7\n",
    "```"
   ]
  },
  {
   "cell_type": "markdown",
   "metadata": {
    "slideshow": {
     "slide_type": "subslide"
    }
   },
   "source": [
    "# ```for/in```\n",
    "\n",
    "- 直接提取集合中元素，而非透過元素```index```提取\n",
    "- 基本版型\n",
    "```\n",
    "    for(datatype variable : elementset) {\n",
    "    }\n",
    "```"
   ]
  },
  {
   "cell_type": "markdown",
   "metadata": {
    "slideshow": {
     "slide_type": "subslide"
    }
   },
   "source": [
    "# ```for-loop與for/in使用差異```\n",
    "\n",
    "- 輸出字串陣列中的元素\n",
    "```\n",
    "    String s[] = {\"Hello\",\"World\"};\n",
    "    \n",
    "    //for-loop寫法\n",
    "    for(int i =0;i<s.length;i++)\n",
    "        System.out.println(s[i]);\n",
    "    \n",
    "    //for/in寫法\n",
    "    for(String getS : s)\n",
    "        System.out.println(getS);\n",
    "```\n",
    "- 輸出結果皆為\n",
    "```\n",
    "    Hello\n",
    "    World\n",
    "```"
   ]
  },
  {
   "cell_type": "markdown",
   "metadata": {
    "slideshow": {
     "slide_type": "subslide"
    }
   },
   "source": [
    "# ```for/in```\n",
    "\n",
    "- for / in存取多維陣列程式碼\n",
    "```\n",
    "    String s[][] = {{\"Hello\",\"World\"},{\"Hello\",\"Java\"}};\n",
    "    for(String getSOne[] : s) {\n",
    "        for(String getSTwo : getSOne)\n",
    "            System.out.print(getTwo + \" \")\n",
    "        System.out.println();\n",
    "    }\n",
    "```\n",
    "- 該程式碼執行結果\n",
    "```\n",
    "    Hello World\n",
    "    Hello Java\n",
    "```"
   ]
  },
  {
   "cell_type": "markdown",
   "metadata": {
    "slideshow": {
     "slide_type": "subslide"
    }
   },
   "source": [
    "# ```while-loop迴圈```\n",
    "\n",
    "- 所有的for-loop結構皆可改為while撰寫\n",
    "- 基本版型\n",
    "```\n",
    "    while(步林判斷式){\n",
    "        //while程式區塊\n",
    "    }\n",
    "```"
   ]
  },
  {
   "cell_type": "markdown",
   "metadata": {
    "slideshow": {
     "slide_type": "subslide"
    }
   },
   "source": [
    "# ```while-loop範例```\n",
    "\n",
    "- 輸出1到10的偶數數字程式碼\n",
    "```\n",
    "    int num = 1;\n",
    "    while(num!=11) {\n",
    "        if(num%2==0)\n",
    "            System.out.println(num);\n",
    "        num++;\n",
    "    }\n",
    "```\n",
    "- 該程式碼執行結果\n",
    "```\n",
    "    2\n",
    "    4\n",
    "    6\n",
    "    8\n",
    "    10\n",
    "```"
   ]
  },
  {
   "cell_type": "markdown",
   "metadata": {
    "slideshow": {
     "slide_type": "subslide"
    }
   },
   "source": [
    "# ```do-while```\n",
    "\n",
    "- 先執行某一段程式碼之後才進行步林運算式的判斷\n",
    "- 基本版型\n",
    "```\n",
    "    do {\n",
    "        //程式碼執行區塊\n",
    "    }while(步林判斷式)\n",
    "```"
   ]
  },
  {
   "cell_type": "markdown",
   "metadata": {
    "slideshow": {
     "slide_type": "subslide"
    }
   },
   "source": [
    "# ```do-while範例```\n",
    "\n",
    "- 輸出1到10的偶數數字程式碼\n",
    "```\n",
    "    int num = 1;\n",
    "    do {\n",
    "        if(num%2==0)\n",
    "            System.out.println(num);\n",
    "        num++;\n",
    "    }while(num!=11);\n",
    "```\n",
    "- 該程式碼執行結果\n",
    "```\n",
    "    2\n",
    "    4\n",
    "    6\n",
    "    8\n",
    "    10\n",
    "```"
   ]
  }
 ],
 "metadata": {
  "celltoolbar": "Slideshow",
  "kernelspec": {
   "display_name": "Python 3",
   "language": "python",
   "name": "python3"
  },
  "language_info": {
   "codemirror_mode": {
    "name": "ipython",
    "version": 3
   },
   "file_extension": ".py",
   "mimetype": "text/x-python",
   "name": "python",
   "nbconvert_exporter": "python",
   "pygments_lexer": "ipython3",
   "version": "3.6.1"
  }
 },
 "nbformat": 4,
 "nbformat_minor": 2
}
